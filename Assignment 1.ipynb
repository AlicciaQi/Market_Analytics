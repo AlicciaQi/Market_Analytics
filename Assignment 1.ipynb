{
 "cells": [
  {
   "cell_type": "code",
   "execution_count": 2,
   "metadata": {},
   "outputs": [],
   "source": [
    "import pandas as pd\n",
    "import numpy as np\n",
    "import math"
   ]
  },
  {
   "cell_type": "code",
   "execution_count": 30,
   "metadata": {},
   "outputs": [],
   "source": [
    "data = pd.read_csv(\"AB_test_data.csv\")\n",
    "data['purchase_TF'] = list(map(int, list(data['purchase_TF'])))"
   ]
  },
  {
   "cell_type": "markdown",
   "metadata": {},
   "source": [
    "# Question 1"
   ]
  },
  {
   "cell_type": "code",
   "execution_count": 31,
   "metadata": {},
   "outputs": [
    {
     "data": {
      "text/html": [
       "<div>\n",
       "<style scoped>\n",
       "    .dataframe tbody tr th:only-of-type {\n",
       "        vertical-align: middle;\n",
       "    }\n",
       "\n",
       "    .dataframe tbody tr th {\n",
       "        vertical-align: top;\n",
       "    }\n",
       "\n",
       "    .dataframe thead th {\n",
       "        text-align: right;\n",
       "    }\n",
       "</style>\n",
       "<table border=\"1\" class=\"dataframe\">\n",
       "  <thead>\n",
       "    <tr style=\"text-align: right;\">\n",
       "      <th>Variant</th>\n",
       "      <th>A</th>\n",
       "      <th>B</th>\n",
       "      <th>All</th>\n",
       "    </tr>\n",
       "    <tr>\n",
       "      <th>purchase_TF</th>\n",
       "      <th></th>\n",
       "      <th></th>\n",
       "      <th></th>\n",
       "    </tr>\n",
       "  </thead>\n",
       "  <tbody>\n",
       "    <tr>\n",
       "      <th>0</th>\n",
       "      <td>106298</td>\n",
       "      <td>4117</td>\n",
       "      <td>110415</td>\n",
       "    </tr>\n",
       "    <tr>\n",
       "      <th>1</th>\n",
       "      <td>18702</td>\n",
       "      <td>883</td>\n",
       "      <td>19585</td>\n",
       "    </tr>\n",
       "    <tr>\n",
       "      <th>All</th>\n",
       "      <td>125000</td>\n",
       "      <td>5000</td>\n",
       "      <td>130000</td>\n",
       "    </tr>\n",
       "  </tbody>\n",
       "</table>\n",
       "</div>"
      ],
      "text/plain": [
       "Variant           A     B     All\n",
       "purchase_TF                      \n",
       "0            106298  4117  110415\n",
       "1             18702   883   19585\n",
       "All          125000  5000  130000"
      ]
     },
     "execution_count": 31,
     "metadata": {},
     "output_type": "execute_result"
    }
   ],
   "source": [
    "convert_tb = pd.crosstab(data.purchase_TF,data.Variant, margins=True)\n",
    "convert_tb"
   ]
  },
  {
   "cell_type": "code",
   "execution_count": 32,
   "metadata": {},
   "outputs": [],
   "source": [
    "sizeA = list(convert_tb.A)[2]\n",
    "sizeB = list(convert_tb.B)[2]\n",
    "size = list(convert_tb.All)[2]\n",
    "convertA = list(convert_tb.A)[1]\n",
    "convertB = list(convert_tb.B)[1]\n",
    "convert = list(convert_tb.All)[1]\n",
    "conversion_all = convert/size\n",
    "conversion_A = convertA/sizeA\n",
    "conversion_B = convertB/sizeB"
   ]
  },
  {
   "cell_type": "code",
   "execution_count": 33,
   "metadata": {},
   "outputs": [],
   "source": [
    "z_test = (conversion_B - conversion_A)/np.sqrt(conversion_A*(1-conversion_A)/sizeB)"
   ]
  },
  {
   "cell_type": "code",
   "execution_count": 34,
   "metadata": {},
   "outputs": [
    {
     "data": {
      "text/plain": [
       "5.349273094732516"
      ]
     },
     "execution_count": 34,
     "metadata": {},
     "output_type": "execute_result"
    }
   ],
   "source": [
    "z_test"
   ]
  },
  {
   "cell_type": "code",
   "execution_count": 35,
   "metadata": {},
   "outputs": [],
   "source": [
    "###Accept H1, alternative B improved conversion rates"
   ]
  },
  {
   "cell_type": "markdown",
   "metadata": {},
   "source": [
    "# Question 2"
   ]
  },
  {
   "cell_type": "code",
   "execution_count": 36,
   "metadata": {},
   "outputs": [],
   "source": [
    "###Set minimum detectable effect = conversion_B-conversion_A(0.026984)"
   ]
  },
  {
   "cell_type": "code",
   "execution_count": 37,
   "metadata": {},
   "outputs": [],
   "source": [
    "mde = conversion_B-conversion_A\n",
    "t_alpha_over_2 = 1.96 # alpha/2 = 0.05/2 = 0.025 \n",
    "t_beta = 0.842 # beta = -0.2. \n",
    "pbar = (conversion_A+conversion_B)/2\n",
    "min_n = pow(t_alpha_over_2*np.sqrt(2*pbar*(1-pbar))+t_beta*np.sqrt(conversion_A*(1-conversion_A)+conversion_B*(1-conversion_B)),2)/pow(mde,2)"
   ]
  },
  {
   "cell_type": "code",
   "execution_count": 38,
   "metadata": {
    "scrolled": true
   },
   "outputs": [
    {
     "data": {
      "text/plain": [
       "2943"
      ]
     },
     "execution_count": 38,
     "metadata": {},
     "output_type": "execute_result"
    }
   ],
   "source": [
    "size_sample = math.ceil(min_n)\n",
    "size_sample\n",
    "###The optimal sample size is 2943 when alpha = 0.05, beta = 0.2, minimum detectable effect = 0.0269"
   ]
  },
  {
   "cell_type": "code",
   "execution_count": 39,
   "metadata": {},
   "outputs": [],
   "source": [
    "data_onlyB = data[data['Variant'] == 'B']"
   ]
  },
  {
   "cell_type": "code",
   "execution_count": 40,
   "metadata": {},
   "outputs": [
    {
     "name": "stdout",
     "output_type": "stream",
     "text": [
      "<class 'pandas.core.frame.DataFrame'>\n",
      "Int64Index: 5000 entries, 1 to 129960\n",
      "Data columns (total 4 columns):\n",
      "purchase_TF    5000 non-null int64\n",
      "Variant        5000 non-null object\n",
      "date           5000 non-null object\n",
      "id             5000 non-null object\n",
      "dtypes: int64(1), object(3)\n",
      "memory usage: 195.3+ KB\n"
     ]
    }
   ],
   "source": [
    "data_onlyB.info()"
   ]
  },
  {
   "cell_type": "code",
   "execution_count": 41,
   "metadata": {},
   "outputs": [
    {
     "data": {
      "text/plain": [
       "[4.066055276557851,\n",
       " 2.619062575993062,\n",
       " 4.376125140964587,\n",
       " 3.9626986550889347,\n",
       " 4.324446830230131,\n",
       " 3.497593858478827,\n",
       " 4.272768519495675,\n",
       " 3.859342033620023,\n",
       " 4.272768519495675,\n",
       " 4.376125140964587]"
      ]
     },
     "execution_count": 41,
     "metadata": {},
     "output_type": "execute_result"
    }
   ],
   "source": [
    "z_test_list = []\n",
    "sample_list = []\n",
    "for i in range(1,11):   \n",
    "    data_sample = data_onlyB.sample(n=math.ceil(size_sample),axis = 0)\n",
    "    sample_list.append(data_sample)\n",
    "    conversion_sample = sum(data_sample.purchase_TF)/size_sample # converted / all samples\n",
    "    z_test = (conversion_sample - conversion_A)/np.sqrt(conversion_A*(1-conversion_A)/size_sample)\n",
    "    z_test_list.append(z_test)  \n",
    "z_test_list"
   ]
  },
  {
   "cell_type": "code",
   "execution_count": 42,
   "metadata": {},
   "outputs": [],
   "source": [
    "###Accept H1 every time"
   ]
  },
  {
   "cell_type": "markdown",
   "metadata": {},
   "source": [
    "# Question 3"
   ]
  },
  {
   "cell_type": "code",
   "execution_count": 59,
   "metadata": {},
   "outputs": [],
   "source": [
    "from math import log\n",
    "A = log(1/0.05) # upper bound A = 1/alpha, where alpha = 0.05\n",
    "B = log(0.2) # lower bound B = beta = 1-power = 0.2"
   ]
  },
  {
   "cell_type": "code",
   "execution_count": 60,
   "metadata": {},
   "outputs": [],
   "source": [
    "###Assume xi are Bernoulli with P(xi =1) = p0 (0.149616) under H0 and P(xi =1) = p0+mde (0.19961) under H1."
   ]
  },
  {
   "cell_type": "code",
   "execution_count": 61,
   "metadata": {},
   "outputs": [],
   "source": [
    "results = [] # H0 or H1\n",
    "iterations = []\n",
    "for sample in sample_list:\n",
    "    lam = 0 \n",
    "    n = 1\n",
    "    for x in list(sample.purchase_TF):\n",
    "        if x == 1:\n",
    "            lambda_x = log((conversion_B)/conversion_A)\n",
    "        else:\n",
    "            lambda_x = log((1-conversion_B)/(1-conversion_A))\n",
    "        lam = lam + lambda_x     \n",
    "        if lam <= B:\n",
    "            results.append('H0')\n",
    "            iterations.append(n)\n",
    "            break\n",
    "        elif lam >= A:\n",
    "            results.append('H1')\n",
    "            iterations.append(n)\n",
    "            break\n",
    "        elif n == size_sample and lam > B and lam < A:\n",
    "            results.append('No result')\n",
    "            iterations.append(n)\n",
    "        n = n+1      "
   ]
  },
  {
   "cell_type": "code",
   "execution_count": 62,
   "metadata": {},
   "outputs": [
    {
     "data": {
      "text/plain": [
       "['H1', 'H1', 'H1', 'H1', 'H1', 'H1', 'H1', 'H1', 'H1', 'H1']"
      ]
     },
     "execution_count": 62,
     "metadata": {},
     "output_type": "execute_result"
    }
   ],
   "source": [
    "results"
   ]
  },
  {
   "cell_type": "code",
   "execution_count": 63,
   "metadata": {},
   "outputs": [
    {
     "data": {
      "text/plain": [
       "[882, 269, 538, 799, 766, 1123, 493, 644, 1755, 1385]"
      ]
     },
     "execution_count": 63,
     "metadata": {},
     "output_type": "execute_result"
    }
   ],
   "source": [
    "iterations"
   ]
  },
  {
   "cell_type": "code",
   "execution_count": 64,
   "metadata": {},
   "outputs": [
    {
     "data": {
      "text/plain": [
       "865.4"
      ]
     },
     "execution_count": 64,
     "metadata": {},
     "output_type": "execute_result"
    }
   ],
   "source": [
    "sum(iterations)/len(iterations)"
   ]
  },
  {
   "cell_type": "code",
   "execution_count": 71,
   "metadata": {},
   "outputs": [],
   "source": [
    "###Stop the test prior to using the full sample for every sample.\n",
    "###Average number of iterations: 681.8"
   ]
  },
  {
   "cell_type": "code",
   "execution_count": null,
   "metadata": {},
   "outputs": [],
   "source": []
  }
 ],
 "metadata": {
  "kernelspec": {
   "display_name": "Python 3",
   "language": "python",
   "name": "python3"
  },
  "language_info": {
   "codemirror_mode": {
    "name": "ipython",
    "version": 3
   },
   "file_extension": ".py",
   "mimetype": "text/x-python",
   "name": "python",
   "nbconvert_exporter": "python",
   "pygments_lexer": "ipython3",
   "version": "3.6.8"
  }
 },
 "nbformat": 4,
 "nbformat_minor": 2
}
